{
 "cells": [
  {
   "cell_type": "code",
   "execution_count": 2,
   "id": "3c14c326",
   "metadata": {
    "ExecuteTime": {
     "end_time": "2022-05-31T17:35:19.829730Z",
     "start_time": "2022-05-31T17:35:19.173864Z"
    }
   },
   "outputs": [],
   "source": [
    "import pandas as pd"
   ]
  },
  {
   "cell_type": "code",
   "execution_count": 5,
   "id": "e60996dd",
   "metadata": {
    "ExecuteTime": {
     "end_time": "2022-05-31T17:36:47.471953Z",
     "start_time": "2022-05-31T17:36:47.448195Z"
    }
   },
   "outputs": [],
   "source": [
    "df = pd.read_csv(\"log6a.log\",sep=\"\\t\")\n"
   ]
  },
  {
   "cell_type": "code",
   "execution_count": 6,
   "id": "ea4b9278",
   "metadata": {
    "ExecuteTime": {
     "end_time": "2022-05-31T17:36:50.498806Z",
     "start_time": "2022-05-31T17:36:50.477195Z"
    }
   },
   "outputs": [
    {
     "data": {
      "text/html": [
       "<div>\n",
       "<style scoped>\n",
       "    .dataframe tbody tr th:only-of-type {\n",
       "        vertical-align: middle;\n",
       "    }\n",
       "\n",
       "    .dataframe tbody tr th {\n",
       "        vertical-align: top;\n",
       "    }\n",
       "\n",
       "    .dataframe thead th {\n",
       "        text-align: right;\n",
       "    }\n",
       "</style>\n",
       "<table border=\"1\" class=\"dataframe\">\n",
       "  <thead>\n",
       "    <tr style=\"text-align: right;\">\n",
       "      <th></th>\n",
       "      <th>T1(onheater):27.08</th>\n",
       "      <th>T2: 26.67</th>\n",
       "      <th>T3(Outside): 23.0000</th>\n",
       "      <th>265.00</th>\n",
       "    </tr>\n",
       "  </thead>\n",
       "  <tbody>\n",
       "    <tr>\n",
       "      <th>0</th>\n",
       "      <td>T1(onheater):27.04</td>\n",
       "      <td>T2: 26.67</td>\n",
       "      <td>T3(Outside): 23.0000</td>\n",
       "      <td>1530.0</td>\n",
       "    </tr>\n",
       "    <tr>\n",
       "      <th>1</th>\n",
       "      <td>T1(onheater):27.08</td>\n",
       "      <td>T2: 26.67</td>\n",
       "      <td>T3(Outside): 23.0000</td>\n",
       "      <td>2795.0</td>\n",
       "    </tr>\n",
       "    <tr>\n",
       "      <th>2</th>\n",
       "      <td>T1(onheater):27.08</td>\n",
       "      <td>T2: 26.67</td>\n",
       "      <td>T3(Outside): 23.0000</td>\n",
       "      <td>4061.0</td>\n",
       "    </tr>\n",
       "    <tr>\n",
       "      <th>3</th>\n",
       "      <td>T1(onheater):27.12</td>\n",
       "      <td>T2: 26.67</td>\n",
       "      <td>T3(Outside): 23.0000</td>\n",
       "      <td>5325.0</td>\n",
       "    </tr>\n",
       "    <tr>\n",
       "      <th>4</th>\n",
       "      <td>T1(onheater):27.16</td>\n",
       "      <td>T2: 26.71</td>\n",
       "      <td>T3(Outside): 23.0000</td>\n",
       "      <td>6591.0</td>\n",
       "    </tr>\n",
       "    <tr>\n",
       "      <th>...</th>\n",
       "      <td>...</td>\n",
       "      <td>...</td>\n",
       "      <td>...</td>\n",
       "      <td>...</td>\n",
       "    </tr>\n",
       "    <tr>\n",
       "      <th>523</th>\n",
       "      <td>T1(onheater):27.04</td>\n",
       "      <td>T2: 26.63</td>\n",
       "      <td>T3(Outside): 23.5000</td>\n",
       "      <td>663241.0</td>\n",
       "    </tr>\n",
       "    <tr>\n",
       "      <th>524</th>\n",
       "      <td>T1(onheater):26.99</td>\n",
       "      <td>T2: 26.59</td>\n",
       "      <td>T3(Outside): 23.0000</td>\n",
       "      <td>664507.0</td>\n",
       "    </tr>\n",
       "    <tr>\n",
       "      <th>525</th>\n",
       "      <td>T1(onheater):27.04</td>\n",
       "      <td>T2: 26.59</td>\n",
       "      <td>T3(Outside): 23.5000</td>\n",
       "      <td>665772.0</td>\n",
       "    </tr>\n",
       "    <tr>\n",
       "      <th>526</th>\n",
       "      <td>T1(onheater):27.04</td>\n",
       "      <td>T2: 26.59</td>\n",
       "      <td>T3(Outside): 23.5000</td>\n",
       "      <td>667037.0</td>\n",
       "    </tr>\n",
       "    <tr>\n",
       "      <th>527</th>\n",
       "      <td>T1(onheater):26.99</td>\n",
       "      <td>T2: 26.59</td>\n",
       "      <td>T3(Outside): 23.5000</td>\n",
       "      <td>668302.0</td>\n",
       "    </tr>\n",
       "  </tbody>\n",
       "</table>\n",
       "<p>528 rows × 4 columns</p>\n",
       "</div>"
      ],
      "text/plain": [
       "     T1(onheater):27.08  T2: 26.67  T3(Outside): 23.0000    265.00\n",
       "0    T1(onheater):27.04  T2: 26.67  T3(Outside): 23.0000    1530.0\n",
       "1    T1(onheater):27.08  T2: 26.67  T3(Outside): 23.0000    2795.0\n",
       "2    T1(onheater):27.08  T2: 26.67  T3(Outside): 23.0000    4061.0\n",
       "3    T1(onheater):27.12  T2: 26.67  T3(Outside): 23.0000    5325.0\n",
       "4    T1(onheater):27.16  T2: 26.71  T3(Outside): 23.0000    6591.0\n",
       "..                  ...        ...                   ...       ...\n",
       "523  T1(onheater):27.04  T2: 26.63  T3(Outside): 23.5000  663241.0\n",
       "524  T1(onheater):26.99  T2: 26.59  T3(Outside): 23.0000  664507.0\n",
       "525  T1(onheater):27.04  T2: 26.59  T3(Outside): 23.5000  665772.0\n",
       "526  T1(onheater):27.04  T2: 26.59  T3(Outside): 23.5000  667037.0\n",
       "527  T1(onheater):26.99  T2: 26.59  T3(Outside): 23.5000  668302.0\n",
       "\n",
       "[528 rows x 4 columns]"
      ]
     },
     "execution_count": 6,
     "metadata": {},
     "output_type": "execute_result"
    }
   ],
   "source": [
    "df"
   ]
  },
  {
   "cell_type": "code",
   "execution_count": null,
   "id": "3d5f326c",
   "metadata": {},
   "outputs": [],
   "source": []
  }
 ],
 "metadata": {
  "kernelspec": {
   "display_name": "Python 3 (ipykernel)",
   "language": "python",
   "name": "python3"
  },
  "language_info": {
   "codemirror_mode": {
    "name": "ipython",
    "version": 3
   },
   "file_extension": ".py",
   "mimetype": "text/x-python",
   "name": "python",
   "nbconvert_exporter": "python",
   "pygments_lexer": "ipython3",
   "version": "3.8.12"
  }
 },
 "nbformat": 4,
 "nbformat_minor": 5
}
