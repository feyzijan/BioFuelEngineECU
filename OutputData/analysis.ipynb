{
 "cells": [
  {
   "cell_type": "code",
   "execution_count": 2,
   "id": "3c14c326",
   "metadata": {
    "ExecuteTime": {
     "end_time": "2022-05-31T17:35:19.829730Z",
     "start_time": "2022-05-31T17:35:19.173864Z"
    }
   },
   "outputs": [],
   "source": [
    "import pandas as pd"
   ]
  },
  {
   "cell_type": "code",
   "execution_count": 11,
   "id": "e60996dd",
   "metadata": {
    "ExecuteTime": {
     "end_time": "2022-05-31T17:51:06.610104Z",
     "start_time": "2022-05-31T17:51:06.598106Z"
    }
   },
   "outputs": [],
   "source": [
    "test_no = 6\n",
    "\n",
    "def get_data(test_no):\n",
    "    file1 = f\"log{test_no}a.log\"\n",
    "    file2 = f\"log{test_no}b.log\"\n",
    "    df1 = pd.read_csv(file1,sep=\"\\t\")\n",
    "    df2 = pd.read_csv(file2,sep=\"\\t\")\n",
    "    \n",
    "    return df1,df2\n"
   ]
  },
  {
   "cell_type": "code",
   "execution_count": 18,
   "id": "ea4b9278",
   "metadata": {
    "ExecuteTime": {
     "end_time": "2022-05-31T17:52:42.058888Z",
     "start_time": "2022-05-31T17:52:42.041888Z"
    }
   },
   "outputs": [],
   "source": [
    "df1,df2 = get_data(8)"
   ]
  },
  {
   "cell_type": "code",
   "execution_count": 19,
   "id": "8b660545",
   "metadata": {
    "ExecuteTime": {
     "end_time": "2022-05-31T17:52:42.326095Z",
     "start_time": "2022-05-31T17:52:42.303094Z"
    }
   },
   "outputs": [
    {
     "data": {
      "text/html": [
       "<div>\n",
       "<style scoped>\n",
       "    .dataframe tbody tr th:only-of-type {\n",
       "        vertical-align: middle;\n",
       "    }\n",
       "\n",
       "    .dataframe tbody tr th {\n",
       "        vertical-align: top;\n",
       "    }\n",
       "\n",
       "    .dataframe thead th {\n",
       "        text-align: right;\n",
       "    }\n",
       "</style>\n",
       "<table border=\"1\" class=\"dataframe\">\n",
       "  <thead>\n",
       "    <tr style=\"text-align: right;\">\n",
       "      <th></th>\n",
       "      <th>T1(onheater):26.79</th>\n",
       "      <th>T2: 26.63</th>\n",
       "      <th>T3(Outside): 23.0000</th>\n",
       "      <th>265.00</th>\n",
       "    </tr>\n",
       "  </thead>\n",
       "  <tbody>\n",
       "    <tr>\n",
       "      <th>0</th>\n",
       "      <td>T1(onheater):26.83</td>\n",
       "      <td>T2: 26.63</td>\n",
       "      <td>T3(Outside): 22.5000</td>\n",
       "      <td>1530.0</td>\n",
       "    </tr>\n",
       "    <tr>\n",
       "      <th>1</th>\n",
       "      <td>T1(onheater):26.79</td>\n",
       "      <td>T2: 26.63</td>\n",
       "      <td>T3(Outside): 23.0000</td>\n",
       "      <td>2795.0</td>\n",
       "    </tr>\n",
       "    <tr>\n",
       "      <th>2</th>\n",
       "      <td>T1(onheater):26.75</td>\n",
       "      <td>T2: 26.59</td>\n",
       "      <td>T3(Outside): 23.0000</td>\n",
       "      <td>4061.0</td>\n",
       "    </tr>\n",
       "    <tr>\n",
       "      <th>3</th>\n",
       "      <td>T1(onheater):26.75</td>\n",
       "      <td>T2: 26.59</td>\n",
       "      <td>T3(Outside): 23.0000</td>\n",
       "      <td>5325.0</td>\n",
       "    </tr>\n",
       "    <tr>\n",
       "      <th>4</th>\n",
       "      <td>T1(onheater):26.79</td>\n",
       "      <td>T2: 26.63</td>\n",
       "      <td>T3(Outside): 23.0000</td>\n",
       "      <td>6591.0</td>\n",
       "    </tr>\n",
       "    <tr>\n",
       "      <th>...</th>\n",
       "      <td>...</td>\n",
       "      <td>...</td>\n",
       "      <td>...</td>\n",
       "      <td>...</td>\n",
       "    </tr>\n",
       "    <tr>\n",
       "      <th>491</th>\n",
       "      <td>T1(onheater):27.32</td>\n",
       "      <td>T2: 26.67</td>\n",
       "      <td>T3(Outside): 23.0000</td>\n",
       "      <td>622754.0</td>\n",
       "    </tr>\n",
       "    <tr>\n",
       "      <th>492</th>\n",
       "      <td>T1(onheater):27.28</td>\n",
       "      <td>T2: 26.63</td>\n",
       "      <td>T3(Outside): 23.0000</td>\n",
       "      <td>624020.0</td>\n",
       "    </tr>\n",
       "    <tr>\n",
       "      <th>493</th>\n",
       "      <td>T1(onheater):27.28</td>\n",
       "      <td>T2: 26.63</td>\n",
       "      <td>T3(Outside): 23.5000</td>\n",
       "      <td>625286.0</td>\n",
       "    </tr>\n",
       "    <tr>\n",
       "      <th>494</th>\n",
       "      <td>T1(onheater):27.32</td>\n",
       "      <td>T2: 26.67</td>\n",
       "      <td>T3(Outside): 23.5000</td>\n",
       "      <td>626550.0</td>\n",
       "    </tr>\n",
       "    <tr>\n",
       "      <th>495</th>\n",
       "      <td>T1(onheater):27.28</td>\n",
       "      <td>T2: 26.63</td>\n",
       "      <td>T3(Outside): 23.5000</td>\n",
       "      <td>627816.0</td>\n",
       "    </tr>\n",
       "  </tbody>\n",
       "</table>\n",
       "<p>496 rows × 4 columns</p>\n",
       "</div>"
      ],
      "text/plain": [
       "     T1(onheater):26.79  T2: 26.63  T3(Outside): 23.0000    265.00\n",
       "0    T1(onheater):26.83  T2: 26.63  T3(Outside): 22.5000    1530.0\n",
       "1    T1(onheater):26.79  T2: 26.63  T3(Outside): 23.0000    2795.0\n",
       "2    T1(onheater):26.75  T2: 26.59  T3(Outside): 23.0000    4061.0\n",
       "3    T1(onheater):26.75  T2: 26.59  T3(Outside): 23.0000    5325.0\n",
       "4    T1(onheater):26.79  T2: 26.63  T3(Outside): 23.0000    6591.0\n",
       "..                  ...        ...                   ...       ...\n",
       "491  T1(onheater):27.32  T2: 26.67  T3(Outside): 23.0000  622754.0\n",
       "492  T1(onheater):27.28  T2: 26.63  T3(Outside): 23.0000  624020.0\n",
       "493  T1(onheater):27.28  T2: 26.63  T3(Outside): 23.5000  625286.0\n",
       "494  T1(onheater):27.32  T2: 26.67  T3(Outside): 23.5000  626550.0\n",
       "495  T1(onheater):27.28  T2: 26.63  T3(Outside): 23.5000  627816.0\n",
       "\n",
       "[496 rows x 4 columns]"
      ]
     },
     "execution_count": 19,
     "metadata": {},
     "output_type": "execute_result"
    }
   ],
   "source": [
    "df1"
   ]
  },
  {
   "cell_type": "code",
   "execution_count": 20,
   "id": "66af6fc2",
   "metadata": {
    "ExecuteTime": {
     "end_time": "2022-05-31T17:52:42.616813Z",
     "start_time": "2022-05-31T17:52:42.598813Z"
    }
   },
   "outputs": [
    {
     "data": {
      "text/html": [
       "<div>\n",
       "<style scoped>\n",
       "    .dataframe tbody tr th:only-of-type {\n",
       "        vertical-align: middle;\n",
       "    }\n",
       "\n",
       "    .dataframe tbody tr th {\n",
       "        vertical-align: top;\n",
       "    }\n",
       "\n",
       "    .dataframe thead th {\n",
       "        text-align: right;\n",
       "    }\n",
       "</style>\n",
       "<table border=\"1\" class=\"dataframe\">\n",
       "  <thead>\n",
       "    <tr style=\"text-align: right;\">\n",
       "      <th></th>\n",
       "      <th>T(plate) = 28.39</th>\n",
       "      <th>2.00</th>\n",
       "    </tr>\n",
       "  </thead>\n",
       "  <tbody>\n",
       "    <tr>\n",
       "      <th>0</th>\n",
       "      <td>T(plate) = 28.39</td>\n",
       "      <td>1004.0</td>\n",
       "    </tr>\n",
       "    <tr>\n",
       "      <th>1</th>\n",
       "      <td>T(plate) = 28.29</td>\n",
       "      <td>2008.0</td>\n",
       "    </tr>\n",
       "    <tr>\n",
       "      <th>2</th>\n",
       "      <td>T(plate) = 28.39</td>\n",
       "      <td>3010.0</td>\n",
       "    </tr>\n",
       "    <tr>\n",
       "      <th>3</th>\n",
       "      <td>T(plate) = 28.34</td>\n",
       "      <td>4013.0</td>\n",
       "    </tr>\n",
       "    <tr>\n",
       "      <th>4</th>\n",
       "      <td>T(plate) = 28.34</td>\n",
       "      <td>5015.0</td>\n",
       "    </tr>\n",
       "    <tr>\n",
       "      <th>...</th>\n",
       "      <td>...</td>\n",
       "      <td>...</td>\n",
       "    </tr>\n",
       "    <tr>\n",
       "      <th>621</th>\n",
       "      <td>T(plate) = 60.44</td>\n",
       "      <td>623725.0</td>\n",
       "    </tr>\n",
       "    <tr>\n",
       "      <th>622</th>\n",
       "      <td>T(plate) = 60.48</td>\n",
       "      <td>624728.0</td>\n",
       "    </tr>\n",
       "    <tr>\n",
       "      <th>623</th>\n",
       "      <td>T(plate) = 60.48</td>\n",
       "      <td>625730.0</td>\n",
       "    </tr>\n",
       "    <tr>\n",
       "      <th>624</th>\n",
       "      <td>T(plate) = 60.44</td>\n",
       "      <td>626734.0</td>\n",
       "    </tr>\n",
       "    <tr>\n",
       "      <th>625</th>\n",
       "      <td>T(plate) = 60.48</td>\n",
       "      <td>627736.0</td>\n",
       "    </tr>\n",
       "  </tbody>\n",
       "</table>\n",
       "<p>626 rows × 2 columns</p>\n",
       "</div>"
      ],
      "text/plain": [
       "     T(plate) = 28.39      2.00\n",
       "0    T(plate) = 28.39    1004.0\n",
       "1    T(plate) = 28.29    2008.0\n",
       "2    T(plate) = 28.39    3010.0\n",
       "3    T(plate) = 28.34    4013.0\n",
       "4    T(plate) = 28.34    5015.0\n",
       "..                ...       ...\n",
       "621  T(plate) = 60.44  623725.0\n",
       "622  T(plate) = 60.48  624728.0\n",
       "623  T(plate) = 60.48  625730.0\n",
       "624  T(plate) = 60.44  626734.0\n",
       "625  T(plate) = 60.48  627736.0\n",
       "\n",
       "[626 rows x 2 columns]"
      ]
     },
     "execution_count": 20,
     "metadata": {},
     "output_type": "execute_result"
    }
   ],
   "source": [
    "df2"
   ]
  },
  {
   "cell_type": "code",
   "execution_count": null,
   "id": "5159221a",
   "metadata": {},
   "outputs": [],
   "source": []
  }
 ],
 "metadata": {
  "kernelspec": {
   "display_name": "Python 3 (ipykernel)",
   "language": "python",
   "name": "python3"
  },
  "language_info": {
   "codemirror_mode": {
    "name": "ipython",
    "version": 3
   },
   "file_extension": ".py",
   "mimetype": "text/x-python",
   "name": "python",
   "nbconvert_exporter": "python",
   "pygments_lexer": "ipython3",
   "version": "3.8.12"
  }
 },
 "nbformat": 4,
 "nbformat_minor": 5
}
