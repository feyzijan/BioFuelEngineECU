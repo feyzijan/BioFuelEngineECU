{
 "cells": [
  {
   "cell_type": "code",
   "execution_count": 21,
   "id": "0e645762",
   "metadata": {
    "ExecuteTime": {
     "end_time": "2022-06-05T13:34:35.417772Z",
     "start_time": "2022-06-05T13:34:35.410773Z"
    }
   },
   "outputs": [],
   "source": [
    "import numpy as np"
   ]
  },
  {
   "cell_type": "code",
   "execution_count": 30,
   "id": "71f86a7e",
   "metadata": {
    "ExecuteTime": {
     "end_time": "2022-06-03T10:25:44.014474Z",
     "start_time": "2022-06-03T10:25:43.998954Z"
    }
   },
   "outputs": [],
   "source": [
    "x = np.arange(400,3201,400)\n",
    "y = np.array([0.51, 0.58, 0.63, 0.66, 0.66, 0.72, 0.73, 0.74])\n"
   ]
  },
  {
   "cell_type": "code",
   "execution_count": 31,
   "id": "7df4de03",
   "metadata": {
    "ExecuteTime": {
     "end_time": "2022-06-03T10:25:45.120602Z",
     "start_time": "2022-06-03T10:25:45.106602Z"
    }
   },
   "outputs": [],
   "source": [
    "a = np.polyfit(x,y,2)"
   ]
  },
  {
   "cell_type": "code",
   "execution_count": 32,
   "id": "2155fb26",
   "metadata": {
    "ExecuteTime": {
     "end_time": "2022-06-03T10:25:45.394639Z",
     "start_time": "2022-06-03T10:25:45.387639Z"
    }
   },
   "outputs": [
    {
     "data": {
      "text/plain": [
       "array([-2.19494048e-08,  1.57291667e-04,  4.60178571e-01])"
      ]
     },
     "execution_count": 32,
     "metadata": {},
     "output_type": "execute_result"
    }
   ],
   "source": [
    "a"
   ]
  },
  {
   "cell_type": "code",
   "execution_count": 33,
   "id": "ca7b3714",
   "metadata": {
    "ExecuteTime": {
     "end_time": "2022-06-03T10:25:46.683984Z",
     "start_time": "2022-06-03T10:25:46.669986Z"
    }
   },
   "outputs": [
    {
     "data": {
      "text/plain": [
       "0.7387499999999996"
      ]
     },
     "execution_count": 33,
     "metadata": {},
     "output_type": "execute_result"
    }
   ],
   "source": [
    "a[2] + a[1] * 3200 + a[0]*3200*3200"
   ]
  },
  {
   "cell_type": "code",
   "execution_count": 29,
   "id": "944ee60e",
   "metadata": {
    "ExecuteTime": {
     "end_time": "2022-06-03T10:25:36.435315Z",
     "start_time": "2022-06-03T10:25:36.423316Z"
    }
   },
   "outputs": [
    {
     "data": {
      "text/plain": [
       "32640000"
      ]
     },
     "execution_count": 29,
     "metadata": {},
     "output_type": "execute_result"
    }
   ],
   "source": [
    "x_square"
   ]
  },
  {
   "cell_type": "code",
   "execution_count": 50,
   "id": "3cc07b41",
   "metadata": {
    "ExecuteTime": {
     "end_time": "2022-06-03T10:30:33.132441Z",
     "start_time": "2022-06-03T10:30:33.127464Z"
    }
   },
   "outputs": [],
   "source": [
    "x_1 = np.arange(300,3200,5)\n",
    "x_square = np.square(x_1)\n",
    "y_1 = a[0]*x_square + a[1]*x_1 + a[2]"
   ]
  },
  {
   "cell_type": "code",
   "execution_count": 51,
   "id": "fd59e595",
   "metadata": {
    "ExecuteTime": {
     "end_time": "2022-06-03T10:30:33.835579Z",
     "start_time": "2022-06-03T10:30:33.750579Z"
    }
   },
   "outputs": [
    {
     "data": {
      "text/plain": [
       "(300.0, 3200.0)"
      ]
     },
     "execution_count": 51,
     "metadata": {},
     "output_type": "execute_result"
    },
    {
     "data": {
      "image/png": "[encoded data removed]",
      "text/plain": [
       "<Figure size 432x288 with 1 Axes>"
      ]
     },
     "metadata": {
      "needs_background": "light"
     },
     "output_type": "display_data"
    }
   ],
   "source": [
    "import matplotlib.pyplot as plt\n",
    "plt.plot(x_1,y_1)\n",
    "plt.xlim([300, 3200])"
   ]
  },
  {
   "cell_type": "code",
   "execution_count": 42,
   "id": "32796eb2",
   "metadata": {
    "ExecuteTime": {
     "end_time": "2022-06-03T10:27:59.998649Z",
     "start_time": "2022-06-03T10:27:59.988648Z"
    }
   },
   "outputs": [
    {
     "data": {
      "text/plain": [
       "array([  14.15625   ,   14.63205729,   15.11572917,   15.60726563,\n",
       "         16.10666667,   16.61393229,   17.1290625 ,   17.65205729,\n",
       "         18.18291667,   18.72164063,   19.26822917,   19.82268229,\n",
       "         20.385     ,   20.95518229,   21.53322917,   22.11914063,\n",
       "         22.71291667,   23.31455729,   23.9240625 ,   24.54143229,\n",
       "         25.16666667,   25.79976563,   26.44072917,   27.08955729,\n",
       "         27.74625   ,   28.41080729,   29.08322917,   29.76351563,\n",
       "         30.45166667,   31.14768229,   31.8515625 ,   32.56330729,\n",
       "         33.28291667,   34.01039063,   34.74572917,   35.48893229,\n",
       "         36.24      ,   36.99893229,   37.76572917,   38.54039063,\n",
       "         39.32291667,   40.11330729,   40.9115625 ,   41.71768229,\n",
       "         42.53166667,   43.35351563,   44.18322917,   45.02080729,\n",
       "         45.86625   ,   46.71955729,   47.58072917,   48.44976563,\n",
       "         49.32666667,   50.21143229,   51.1040625 ,   52.00455729,\n",
       "         52.91291667,   53.82914063,   54.75322917,   55.68518229,\n",
       "         56.625     ,   57.57268229,   58.52822917,   59.49164063,\n",
       "         60.46291667,   61.44205729,   62.4290625 ,   63.42393229,\n",
       "         64.42666667,   65.43726563,   66.45572917,   67.48205729,\n",
       "         68.51625   ,   69.55830729,   70.60822917,   71.66601563,\n",
       "         72.73166667,   73.80518229,   74.8865625 ,   75.97580729,\n",
       "         77.07291667,   78.17789063,   79.29072917,   80.41143229,\n",
       "         81.54      ,   82.67643229,   83.82072917,   84.97289063,\n",
       "         86.13291667,   87.30080729,   88.4765625 ,   89.66018229,\n",
       "         90.85166667,   92.05101563,   93.25822917,   94.47330729,\n",
       "         95.69625   ,   96.92705729,   98.16572917,   99.41226563,\n",
       "        100.66666667,  101.92893229,  103.1990625 ,  104.47705729,\n",
       "        105.76291667,  107.05664063,  108.35822917,  109.66768229,\n",
       "        110.985     ,  112.31018229,  113.64322917,  114.98414063,\n",
       "        116.33291667,  117.68955729,  119.0540625 ,  120.42643229,\n",
       "        121.80666667,  123.19476563,  124.59072917,  125.99455729,\n",
       "        127.40625   ,  128.82580729,  130.25322917,  131.68851563,\n",
       "        133.13166667,  134.58268229,  136.0415625 ,  137.50830729,\n",
       "        138.98291667,  140.46539063,  141.95572917,  143.45393229,\n",
       "        144.96      ,  146.47393229,  147.99572917,  149.52539063,\n",
       "        151.06291667,  152.60830729,  154.1615625 ,  155.72268229,\n",
       "        157.29166667,  158.86851563,  160.45322917,  162.04580729,\n",
       "        163.64625   ,  165.25455729,  166.87072917,  168.49476563,\n",
       "        170.12666667,  171.76643229,  173.4140625 ,  175.06955729,\n",
       "        176.73291667,  178.40414063,  180.08322917,  181.77018229,\n",
       "        183.465     ,  185.16768229,  186.87822917,  188.59664063,\n",
       "        190.32291667,  192.05705729,  193.7990625 ,  195.54893229,\n",
       "        197.30666667,  199.07226563,  200.84572917,  202.62705729,\n",
       "        204.41625   ,  206.21330729,  208.01822917,  209.83101563,\n",
       "        211.65166667,  213.48018229,  215.3165625 ,  217.16080729,\n",
       "        219.01291667,  220.87289063,  222.74072917,  224.61643229,\n",
       "        226.5       ,  228.39143229,  230.29072917,  232.19789063,\n",
       "        234.11291667,  236.03580729,  237.9665625 ,  239.90518229,\n",
       "        241.85166667,  243.80601563,  245.76822917,  247.73830729,\n",
       "        249.71625   ,  251.70205729,  253.69572917,  255.69726563,\n",
       "        257.70666667,  259.72393229,  261.7490625 ,  263.78205729,\n",
       "        265.82291667,  267.87164063,  269.92822917,  271.99268229,\n",
       "        274.065     ,  276.14518229,  278.23322917,  280.32914063,\n",
       "        282.43291667,  284.54455729,  286.6640625 ,  288.79143229,\n",
       "        290.92666667,  293.06976563,  295.22072917,  297.37955729,\n",
       "        299.54625   ,  301.72080729,  303.90322917,  306.09351563,\n",
       "        308.29166667,  310.49768229,  312.7115625 ,  314.93330729,\n",
       "        317.16291667,  319.40039063,  321.64572917,  323.89893229,\n",
       "        326.16      ,  328.42893229,  330.70572917,  332.99039063,\n",
       "        335.28291667,  337.58330729,  339.8915625 ,  342.20768229,\n",
       "        344.53166667,  346.86351563,  349.20322917,  351.55080729,\n",
       "        353.90625   ,  356.26955729,  358.64072917,  361.01976563,\n",
       "        363.40666667,  365.80143229,  368.2040625 ,  370.61455729,\n",
       "        373.03291667,  375.45914063,  377.89322917,  380.33518229,\n",
       "        382.785     ,  385.24268229,  387.70822917,  390.18164063,\n",
       "        392.66291667,  395.15205729,  397.6490625 ,  400.15393229,\n",
       "        402.66666667,  405.18726563,  407.71572917,  410.25205729,\n",
       "        412.79625   ,  415.34830729,  417.90822917,  420.47601563,\n",
       "        423.05166667,  425.63518229,  428.2265625 ,  430.82580729,\n",
       "        433.43291667,  436.04789063,  438.67072917,  441.30143229,\n",
       "        443.94      ,  446.58643229,  449.24072917,  451.90289063,\n",
       "        454.57291667,  457.25080729,  459.9365625 ,  462.63018229,\n",
       "        465.33166667,  468.04101563,  470.75822917,  473.48330729,\n",
       "        476.21625   ,  478.95705729,  481.70572917,  484.46226563,\n",
       "        487.22666667,  489.99893229,  492.7790625 ,  495.56705729,\n",
       "        498.36291667,  501.16664063,  503.97822917,  506.79768229,\n",
       "        509.625     ,  512.46018229,  515.30322917,  518.15414063,\n",
       "        521.01291667,  523.87955729,  526.7540625 ,  529.63643229,\n",
       "        532.52666667,  535.42476563,  538.33072917,  541.24455729,\n",
       "        544.16625   ,  547.09580729,  550.03322917,  552.97851563,\n",
       "        555.93166667,  558.89268229,  561.8615625 ,  564.83830729,\n",
       "        567.82291667,  570.81539063,  573.81572917,  576.82393229,\n",
       "        579.84      ,  582.86393229,  585.89572917,  588.93539063,\n",
       "        591.98291667,  595.03830729,  598.1015625 ,  601.17268229,\n",
       "        604.25166667,  607.33851563,  610.43322917,  613.53580729,\n",
       "        616.64625   ,  619.76455729,  622.89072917,  626.02476563,\n",
       "        629.16666667,  632.31643229,  635.4740625 ,  638.63955729,\n",
       "        641.81291667,  644.99414063,  648.18322917,  651.38018229,\n",
       "        654.585     ,  657.79768229,  661.01822917,  664.24664063,\n",
       "        667.48291667,  670.72705729,  673.9790625 ,  677.23893229,\n",
       "        680.50666667,  683.78226563,  687.06572917,  690.35705729,\n",
       "        693.65625   ,  696.96330729,  700.27822917,  703.60101563,\n",
       "        706.93166667,  710.27018229,  713.6165625 ,  716.97080729,\n",
       "        720.33291667,  723.70289063,  727.08072917,  730.46643229,\n",
       "        733.86      ,  737.26143229,  740.67072917,  744.08789063,\n",
       "        747.51291667,  750.94580729,  754.3865625 ,  757.83518229,\n",
       "        761.29166667,  764.75601563,  768.22822917,  771.70830729,\n",
       "        775.19625   ,  778.69205729,  782.19572917,  785.70726563,\n",
       "        789.22666667,  792.75393229,  796.2890625 ,  799.83205729,\n",
       "        803.38291667,  806.94164063,  810.50822917,  814.08268229,\n",
       "        817.665     ,  821.25518229,  824.85322917,  828.45914063,\n",
       "        832.07291667,  835.69455729,  839.3240625 ,  842.96143229,\n",
       "        846.60666667,  850.25976563,  853.92072917,  857.58955729,\n",
       "        861.26625   ,  864.95080729,  868.64322917,  872.34351563,\n",
       "        876.05166667,  879.76768229,  883.4915625 ,  887.22330729,\n",
       "        890.96291667,  894.71039063,  898.46572917,  902.22893229,\n",
       "        906.        ,  909.77893229,  913.56572917,  917.36039063,\n",
       "        921.16291667,  924.97330729,  928.7915625 ,  932.61768229,\n",
       "        936.45166667,  940.29351563,  944.14322917,  948.00080729,\n",
       "        951.86625   ,  955.73955729,  959.62072917,  963.50976563,\n",
       "        967.40666667,  971.31143229,  975.2240625 ,  979.14455729,\n",
       "        983.07291667,  987.00914063,  990.95322917,  994.90518229,\n",
       "        998.865     , 1002.83268229, 1006.80822917, 1010.79164063,\n",
       "       1014.78291667, 1018.78205729, 1022.7890625 , 1026.80393229,\n",
       "       1030.82666667, 1034.85726563, 1038.89572917, 1042.94205729,\n",
       "       1046.99625   , 1051.05830729, 1055.12822917, 1059.20601563,\n",
       "       1063.29166667, 1067.38518229, 1071.4865625 , 1075.59580729,\n",
       "       1079.71291667, 1083.83789063, 1087.97072917, 1092.11143229,\n",
       "       1096.26      , 1100.41643229, 1104.58072917, 1108.75289063,\n",
       "       1112.93291667, 1117.12080729, 1121.3165625 , 1125.52018229,\n",
       "       1129.73166667, 1133.95101563, 1138.17822917, 1142.41330729,\n",
       "       1146.65625   , 1150.90705729, 1155.16572917, 1159.43226563,\n",
       "       1163.70666667, 1167.98893229, 1172.2790625 , 1176.57705729,\n",
       "       1180.88291667, 1185.19664063, 1189.51822917, 1193.84768229,\n",
       "       1198.185     , 1202.53018229, 1206.88322917, 1211.24414063,\n",
       "       1215.61291667, 1219.98955729, 1224.3740625 , 1228.76643229,\n",
       "       1233.16666667, 1237.57476563, 1241.99072917, 1246.41455729,\n",
       "       1250.84625   , 1255.28580729, 1259.73322917, 1264.18851563,\n",
       "       1268.65166667, 1273.12268229, 1277.6015625 , 1282.08830729,\n",
       "       1286.58291667, 1291.08539063, 1295.59572917, 1300.11393229,\n",
       "       1304.64      , 1309.17393229, 1313.71572917, 1318.26539063,\n",
       "       1322.82291667, 1327.38830729, 1331.9615625 , 1336.54268229,\n",
       "       1341.13166667, 1345.72851563, 1350.33322917, 1354.94580729,\n",
       "       1359.56625   , 1364.19455729, 1368.83072917, 1373.47476563,\n",
       "       1378.12666667, 1382.78643229, 1387.4540625 , 1392.12955729,\n",
       "       1396.81291667, 1401.50414063, 1406.20322917, 1410.91018229,\n",
       "       1415.625     , 1420.34768229, 1425.07822917, 1429.81664063,\n",
       "       1434.56291667, 1439.31705729, 1444.0790625 , 1448.84893229,\n",
       "       1453.62666667, 1458.41226563, 1463.20572917, 1468.00705729,\n",
       "       1472.81625   , 1477.63330729, 1482.45822917, 1487.29101563,\n",
       "       1492.13166667, 1496.98018229, 1501.8365625 , 1506.70080729,\n",
       "       1511.57291667, 1516.45289063, 1521.34072917, 1526.23643229,\n",
       "       1531.14      , 1536.05143229, 1540.97072917, 1545.89789063,\n",
       "       1550.83291667, 1555.77580729, 1560.7265625 , 1565.68518229,\n",
       "       1570.65166667, 1575.62601563, 1580.60822917, 1585.59830729,\n",
       "       1590.59625   , 1595.60205729, 1600.61572917, 1605.63726563])"
      ]
     },
     "execution_count": 42,
     "metadata": {},
     "output_type": "execute_result"
    }
   ],
   "source": [
    "a[1] * x_1"
   ]
  },
  {
   "cell_type": "code",
   "execution_count": 43,
   "id": "121548e4",
   "metadata": {
    "ExecuteTime": {
     "end_time": "2022-06-03T10:28:16.387369Z",
     "start_time": "2022-06-03T10:28:16.373369Z"
    }
   },
   "outputs": [
    {
     "data": {
      "text/plain": [
       "array([-0.00197545, -0.00204184, -0.00210934, -0.00217793, -0.00224762,\n",
       "       -0.00231841, -0.00239029, -0.00246327, -0.00253735, -0.00261253,\n",
       "       -0.0026888 , -0.00276617, -0.00284464, -0.00292421, -0.00300487,\n",
       "       -0.00308664, -0.00316949, -0.00325345, -0.0033385 , -0.00342466,\n",
       "       -0.0035119 , -0.00360025, -0.00368969, -0.00378024, -0.00387188,\n",
       "       -0.00396461, -0.00405844, -0.00415338, -0.0042494 , -0.00434653,\n",
       "       -0.00444475, -0.00454408, -0.00464449, -0.00474601, -0.00484862,\n",
       "       -0.00495233, -0.00505714, -0.00516305, -0.00527005, -0.00537815,\n",
       "       -0.00548735, -0.00559765, -0.00570904, -0.00582153, -0.00593512,\n",
       "       -0.0060498 , -0.00616559, -0.00628247, -0.00640045, -0.00651952,\n",
       "       -0.00663969, -0.00676097, -0.00688333, -0.0070068 , -0.00713136,\n",
       "       -0.00725702, -0.00738378, -0.00751164, -0.00764059, -0.00777064,\n",
       "       -0.00790179, -0.00803403, -0.00816737, -0.00830181, -0.00843735,\n",
       "       -0.00857399, -0.00871172, -0.00885055, -0.00899048, -0.0091315 ,\n",
       "       -0.00927362, -0.00941684, -0.00956116, -0.00970658, -0.00985309,\n",
       "       -0.0100007 , -0.0101494 , -0.01029921, -0.01045011, -0.01060211,\n",
       "       -0.01075521, -0.0109094 , -0.01106469, -0.01122108, -0.01137857,\n",
       "       -0.01153716, -0.01169684, -0.01185762, -0.01201949, -0.01218247,\n",
       "       -0.01234654, -0.01251171, -0.01267798, -0.01284534, -0.0130138 ,\n",
       "       -0.01318336, -0.01335402, -0.01352577, -0.01369862, -0.01387257,\n",
       "       -0.01404762, -0.01422376, -0.014401  , -0.01457934, -0.01475878,\n",
       "       -0.01493931, -0.01512094, -0.01530367, -0.0154875 , -0.01567242,\n",
       "       -0.01585844, -0.01604556, -0.01623378, -0.01642309, -0.0166135 ,\n",
       "       -0.01680501, -0.01699762, -0.01719132, -0.01738612, -0.01758202,\n",
       "       -0.01777902, -0.01797711, -0.0181763 , -0.01837659, -0.01857798,\n",
       "       -0.01878046, -0.01898404, -0.01918872, -0.01939449, -0.01960137,\n",
       "       -0.01980934, -0.02001841, -0.02022857, -0.02043983, -0.02065219,\n",
       "       -0.02086565, -0.02108021, -0.02129586, -0.02151261, -0.02173046,\n",
       "       -0.0219494 , -0.02216945, -0.02239059, -0.02261283, -0.02283616,\n",
       "       -0.02306059, -0.02328612, -0.02351275, -0.02374048, -0.0239693 ,\n",
       "       -0.02419922, -0.02443024, -0.02466235, -0.02489556, -0.02512987,\n",
       "       -0.02536528, -0.02560179, -0.02583939, -0.02607809, -0.02631789,\n",
       "       -0.02655878, -0.02680077, -0.02704386, -0.02728805, -0.02753333,\n",
       "       -0.02777972, -0.02802719, -0.02827577, -0.02852545, -0.02877622,\n",
       "       -0.02902809, -0.02928105, -0.02953512, -0.02979028, -0.03004654,\n",
       "       -0.0303039 , -0.03056235, -0.0308219 , -0.03108255, -0.0313443 ,\n",
       "       -0.03160714, -0.03187108, -0.03213612, -0.03240226, -0.03266949,\n",
       "       -0.03293783, -0.03320725, -0.03347778, -0.0337494 , -0.03402213,\n",
       "       -0.03429594, -0.03457086, -0.03484688, -0.03512399, -0.03540219,\n",
       "       -0.0356815 , -0.0359619 , -0.03624341, -0.036526  , -0.0368097 ,\n",
       "       -0.03709449, -0.03738039, -0.03766737, -0.03795546, -0.03824464,\n",
       "       -0.03853492, -0.0388263 , -0.03911878, -0.03941235, -0.03970702,\n",
       "       -0.04000279, -0.04029966, -0.04059762, -0.04089668, -0.04119684,\n",
       "       -0.04149809, -0.04180045, -0.0421039 , -0.04240844, -0.04271409,\n",
       "       -0.04302083, -0.04332867, -0.04363761, -0.04394765, -0.04425878,\n",
       "       -0.04457101, -0.04488434, -0.04519876, -0.04551429, -0.04583091,\n",
       "       -0.04614862, -0.04646744, -0.04678735, -0.04710836, -0.04743047,\n",
       "       -0.04775367, -0.04807798, -0.04840338, -0.04872987, -0.04905747,\n",
       "       -0.04938616, -0.04971595, -0.05004684, -0.05037882, -0.0507119 ,\n",
       "       -0.05104608, -0.05138136, -0.05171774, -0.05205521, -0.05239378,\n",
       "       -0.05273344, -0.05307421, -0.05341607, -0.05375903, -0.05410309,\n",
       "       -0.05444824, -0.05479449, -0.05514184, -0.05549029, -0.05583983,\n",
       "       -0.05619048, -0.05654222, -0.05689505, -0.05724899, -0.05760402,\n",
       "       -0.05796015, -0.05831737, -0.0586757 , -0.05903512, -0.05939564,\n",
       "       -0.05975725, -0.06011997, -0.06048378, -0.06084869, -0.06121469,\n",
       "       -0.0615818 , -0.06195   , -0.0623193 , -0.06268969, -0.06306119,\n",
       "       -0.06343378, -0.06380747, -0.06418225, -0.06455814, -0.06493512,\n",
       "       -0.0653132 , -0.06569237, -0.06607265, -0.06645402, -0.06683649,\n",
       "       -0.06722005, -0.06760472, -0.06799048, -0.06837733, -0.06876529,\n",
       "       -0.06915434, -0.06954449, -0.06993574, -0.07032809, -0.07072153,\n",
       "       -0.07111607, -0.07151171, -0.07190844, -0.07230628, -0.07270521,\n",
       "       -0.07310524, -0.07350636, -0.07390858, -0.0743119 , -0.07471632,\n",
       "       -0.07512184, -0.07552845, -0.07593616, -0.07634497, -0.07675487,\n",
       "       -0.07716588, -0.07757798, -0.07799117, -0.07840547, -0.07882086,\n",
       "       -0.07923735, -0.07965494, -0.08007362, -0.08049341, -0.08091429,\n",
       "       -0.08133626, -0.08175934, -0.08218351, -0.08260878, -0.08303515,\n",
       "       -0.08346261, -0.08389117, -0.08432083, -0.08475159, -0.08518344,\n",
       "       -0.0856164 , -0.08605045, -0.08648559, -0.08692184, -0.08735918,\n",
       "       -0.08779762, -0.08823716, -0.08867779, -0.08911952, -0.08956235,\n",
       "       -0.09000628, -0.0904513 , -0.09089742, -0.09134464, -0.09179296,\n",
       "       -0.09224237, -0.09269289, -0.09314449, -0.0935972 , -0.094051  ,\n",
       "       -0.09450591, -0.0949619 , -0.095419  , -0.09587719, -0.09633649,\n",
       "       -0.09679688, -0.09725836, -0.09772094, -0.09818463, -0.0986494 ,\n",
       "       -0.09911528, -0.09958225, -0.10005033, -0.10051949, -0.10098976,\n",
       "       -0.10146112, -0.10193358, -0.10240714, -0.1028818 , -0.10335755,\n",
       "       -0.1038344 , -0.10431235, -0.1047914 , -0.10527154, -0.10575278,\n",
       "       -0.10623512, -0.10671855, -0.10720309, -0.10768872, -0.10817545,\n",
       "       -0.10866327, -0.10915219, -0.10964222, -0.11013333, -0.11062555,\n",
       "       -0.11111886, -0.11161327, -0.11210878, -0.11260539, -0.11310309,\n",
       "       -0.11360189, -0.11410179, -0.11460278, -0.11510487, -0.11560806,\n",
       "       -0.11611235, -0.11661774, -0.11712422, -0.1176318 , -0.11814048,\n",
       "       -0.11865025, -0.11916112, -0.11967309, -0.12018616, -0.12070033,\n",
       "       -0.12121559, -0.12173195, -0.1222494 , -0.12276796, -0.12328761,\n",
       "       -0.12380836, -0.12433021, -0.12485315, -0.12537719, -0.12590233,\n",
       "       -0.12642857, -0.12695591, -0.12748434, -0.12801387, -0.12854449,\n",
       "       -0.12907622, -0.12960904, -0.13014296, -0.13067798, -0.13121409,\n",
       "       -0.1317513 , -0.13228961, -0.13282902, -0.13336952, -0.13391112,\n",
       "       -0.13445382, -0.13499762, -0.13554251, -0.1360885 , -0.13663559,\n",
       "       -0.13718378, -0.13773306, -0.13828344, -0.13883492, -0.1393875 ,\n",
       "       -0.13994117, -0.14049594, -0.14105181, -0.14160878, -0.14216684,\n",
       "       -0.142726  , -0.14328626, -0.14384762, -0.14441007, -0.14497362,\n",
       "       -0.14553827, -0.14610402, -0.14667086, -0.1472388 , -0.14780784,\n",
       "       -0.14837798, -0.14894921, -0.14952154, -0.15009497, -0.15066949,\n",
       "       -0.15124512, -0.15182184, -0.15239966, -0.15297857, -0.15355858,\n",
       "       -0.15413969, -0.1547219 , -0.15530521, -0.15588961, -0.15647511,\n",
       "       -0.15706171, -0.1576494 , -0.1582382 , -0.15882809, -0.15941908,\n",
       "       -0.16001116, -0.16060434, -0.16119862, -0.161794  , -0.16239048,\n",
       "       -0.16298805, -0.16358672, -0.16418649, -0.16478735, -0.16538931,\n",
       "       -0.16599237, -0.16659653, -0.16720179, -0.16780814, -0.16841559,\n",
       "       -0.16902414, -0.16963378, -0.17024452, -0.17085636, -0.1714693 ,\n",
       "       -0.17208333, -0.17269847, -0.17331469, -0.17393202, -0.17455045,\n",
       "       -0.17516997, -0.17579059, -0.1764123 , -0.17703512, -0.17765903,\n",
       "       -0.17828404, -0.17891015, -0.17953735, -0.18016565, -0.18079505,\n",
       "       -0.18142555, -0.18205714, -0.18268983, -0.18332362, -0.18395851,\n",
       "       -0.18459449, -0.18523158, -0.18586975, -0.18650903, -0.1871494 ,\n",
       "       -0.18779088, -0.18843344, -0.18907711, -0.18972188, -0.19036774,\n",
       "       -0.19101469, -0.19166275, -0.1923119 , -0.19296216, -0.1936135 ,\n",
       "       -0.19426595, -0.19491949, -0.19557414, -0.19622987, -0.19688671,\n",
       "       -0.19754464, -0.19820367, -0.1988638 , -0.19952503, -0.20018735,\n",
       "       -0.20085077, -0.20151529, -0.20218091, -0.20284762, -0.20351543,\n",
       "       -0.20418434, -0.20485434, -0.20552545, -0.20619765, -0.20687094,\n",
       "       -0.20754534, -0.20822083, -0.20889742, -0.20957511, -0.2102539 ,\n",
       "       -0.21093378, -0.21161476, -0.21229684, -0.21298001, -0.21366429,\n",
       "       -0.21434966, -0.21503612, -0.21572369, -0.21641235, -0.21710211,\n",
       "       -0.21779297, -0.21848492, -0.21917798, -0.21987213, -0.22056737,\n",
       "       -0.22126372, -0.22196116, -0.2226597 , -0.22335934, -0.22406007])"
      ]
     },
     "execution_count": 43,
     "metadata": {},
     "output_type": "execute_result"
    }
   ],
   "source": [
    "a[0] * x_square"
   ]
  },
  {
   "cell_type": "code",
   "execution_count": 44,
   "id": "136c9d91",
   "metadata": {
    "ExecuteTime": {
     "end_time": "2022-06-03T10:28:38.844263Z",
     "start_time": "2022-06-03T10:28:38.833264Z"
    }
   },
   "outputs": [
    {
     "data": {
      "text/plain": [
       "0.46017857142857105"
      ]
     },
     "execution_count": 44,
     "metadata": {},
     "output_type": "execute_result"
    }
   ],
   "source": [
    "a[2]"
   ]
  },
  {
   "cell_type": "markdown",
   "id": "86b18120",
   "metadata": {},
   "source": [
    "### Ignition Timing\n"
   ]
  },
  {
   "cell_type": "code",
   "execution_count": 1,
   "id": "c45b36e4",
   "metadata": {
    "ExecuteTime": {
     "end_time": "2022-06-03T18:26:06.304313Z",
     "start_time": "2022-06-03T18:26:06.289330Z"
    }
   },
   "outputs": [
    {
     "data": {
      "text/plain": [
       "0.010800341788224177"
      ]
     },
     "execution_count": 1,
     "metadata": {},
     "output_type": "execute_result"
    }
   ],
   "source": [
    "a = 24425 * 4 * 599/1000000*3000 / (287*354*2*60) * 0.75\n",
    "a"
   ]
  },
  {
   "cell_type": "code",
   "execution_count": 3,
   "id": "a89a8268",
   "metadata": {
    "ExecuteTime": {
     "end_time": "2022-06-03T18:26:55.787819Z",
     "start_time": "2022-06-03T18:26:55.779820Z"
    }
   },
   "outputs": [
    {
     "data": {
      "text/plain": [
       "10800.341788224177"
      ]
     },
     "execution_count": 3,
     "metadata": {},
     "output_type": "execute_result"
    }
   ],
   "source": [
    "a*1000000"
   ]
  },
  {
   "cell_type": "code",
   "execution_count": 7,
   "id": "5dbfe30a",
   "metadata": {
    "ExecuteTime": {
     "end_time": "2022-06-03T18:27:46.971828Z",
     "start_time": "2022-06-03T18:27:46.967827Z"
    }
   },
   "outputs": [],
   "source": [
    "q = 875/100000000 * 779*1000000"
   ]
  },
  {
   "cell_type": "code",
   "execution_count": 8,
   "id": "3e1025fd",
   "metadata": {
    "ExecuteTime": {
     "end_time": "2022-06-03T18:27:48.071112Z",
     "start_time": "2022-06-03T18:27:48.068122Z"
    }
   },
   "outputs": [
    {
     "data": {
      "text/plain": [
       "6816.249999999999"
      ]
     },
     "execution_count": 8,
     "metadata": {},
     "output_type": "execute_result"
    }
   ],
   "source": [
    "q"
   ]
  },
  {
   "cell_type": "code",
   "execution_count": 10,
   "id": "62914f4d",
   "metadata": {
    "ExecuteTime": {
     "end_time": "2022-06-03T18:34:33.764397Z",
     "start_time": "2022-06-03T18:34:33.749393Z"
    }
   },
   "outputs": [],
   "source": [
    "t = 1.1345/((3000*2*3.14)/60)"
   ]
  },
  {
   "cell_type": "code",
   "execution_count": 11,
   "id": "4e73d5bd",
   "metadata": {
    "ExecuteTime": {
     "end_time": "2022-06-03T18:34:35.529971Z",
     "start_time": "2022-06-03T18:34:35.519986Z"
    }
   },
   "outputs": [
    {
     "data": {
      "text/plain": [
       "0.0036130573248407643"
      ]
     },
     "execution_count": 11,
     "metadata": {},
     "output_type": "execute_result"
    }
   ],
   "source": [
    "t"
   ]
  },
  {
   "cell_type": "code",
   "execution_count": 13,
   "id": "33085713",
   "metadata": {
    "ExecuteTime": {
     "end_time": "2022-06-03T18:35:03.782171Z",
     "start_time": "2022-06-03T18:35:03.772173Z"
    }
   },
   "outputs": [
    {
     "data": {
      "text/plain": [
       "39.02225400872716"
      ]
     },
     "execution_count": 13,
     "metadata": {},
     "output_type": "execute_result"
    }
   ],
   "source": [
    "a*t*1000000"
   ]
  },
  {
   "cell_type": "code",
   "execution_count": 31,
   "id": "837dd4c3",
   "metadata": {
    "ExecuteTime": {
     "end_time": "2022-06-05T13:36:09.406197Z",
     "start_time": "2022-06-05T13:36:09.381197Z"
    },
    "scrolled": false
   },
   "outputs": [
    {
     "data": {
      "text/html": [
       "<div>\n",
       "<style scoped>\n",
       "    .dataframe tbody tr th:only-of-type {\n",
       "        vertical-align: middle;\n",
       "    }\n",
       "\n",
       "    .dataframe tbody tr th {\n",
       "        vertical-align: top;\n",
       "    }\n",
       "\n",
       "    .dataframe thead th {\n",
       "        text-align: right;\n",
       "    }\n",
       "</style>\n",
       "<table border=\"1\" class=\"dataframe\">\n",
       "  <thead>\n",
       "    <tr style=\"text-align: right;\">\n",
       "      <th></th>\n",
       "      <th>2</th>\n",
       "    </tr>\n",
       "  </thead>\n",
       "  <tbody>\n",
       "    <tr>\n",
       "      <th>0</th>\n",
       "      <td>2</td>\n",
       "    </tr>\n",
       "    <tr>\n",
       "      <th>1</th>\n",
       "      <td>2</td>\n",
       "    </tr>\n",
       "    <tr>\n",
       "      <th>2</th>\n",
       "      <td>2</td>\n",
       "    </tr>\n",
       "    <tr>\n",
       "      <th>3</th>\n",
       "      <td>2</td>\n",
       "    </tr>\n",
       "    <tr>\n",
       "      <th>4</th>\n",
       "      <td>61</td>\n",
       "    </tr>\n",
       "    <tr>\n",
       "      <th>5</th>\n",
       "      <td>61</td>\n",
       "    </tr>\n",
       "    <tr>\n",
       "      <th>6</th>\n",
       "      <td>83</td>\n",
       "    </tr>\n",
       "    <tr>\n",
       "      <th>7</th>\n",
       "      <td>86</td>\n",
       "    </tr>\n",
       "    <tr>\n",
       "      <th>8</th>\n",
       "      <td>78</td>\n",
       "    </tr>\n",
       "    <tr>\n",
       "      <th>9</th>\n",
       "      <td>78</td>\n",
       "    </tr>\n",
       "    <tr>\n",
       "      <th>10</th>\n",
       "      <td>90</td>\n",
       "    </tr>\n",
       "    <tr>\n",
       "      <th>11</th>\n",
       "      <td>90</td>\n",
       "    </tr>\n",
       "    <tr>\n",
       "      <th>12</th>\n",
       "      <td>69</td>\n",
       "    </tr>\n",
       "    <tr>\n",
       "      <th>13</th>\n",
       "      <td>69</td>\n",
       "    </tr>\n",
       "    <tr>\n",
       "      <th>14</th>\n",
       "      <td>133</td>\n",
       "    </tr>\n",
       "    <tr>\n",
       "      <th>15</th>\n",
       "      <td>133</td>\n",
       "    </tr>\n",
       "    <tr>\n",
       "      <th>16</th>\n",
       "      <td>237</td>\n",
       "    </tr>\n",
       "    <tr>\n",
       "      <th>17</th>\n",
       "      <td>237</td>\n",
       "    </tr>\n",
       "    <tr>\n",
       "      <th>18</th>\n",
       "      <td>353</td>\n",
       "    </tr>\n",
       "    <tr>\n",
       "      <th>19</th>\n",
       "      <td>353</td>\n",
       "    </tr>\n",
       "    <tr>\n",
       "      <th>20</th>\n",
       "      <td>525</td>\n",
       "    </tr>\n",
       "    <tr>\n",
       "      <th>21</th>\n",
       "      <td>525</td>\n",
       "    </tr>\n",
       "    <tr>\n",
       "      <th>22</th>\n",
       "      <td>668</td>\n",
       "    </tr>\n",
       "    <tr>\n",
       "      <th>23</th>\n",
       "      <td>664</td>\n",
       "    </tr>\n",
       "    <tr>\n",
       "      <th>24</th>\n",
       "      <td>667</td>\n",
       "    </tr>\n",
       "    <tr>\n",
       "      <th>25</th>\n",
       "      <td>663</td>\n",
       "    </tr>\n",
       "    <tr>\n",
       "      <th>26</th>\n",
       "      <td>599</td>\n",
       "    </tr>\n",
       "    <tr>\n",
       "      <th>27</th>\n",
       "      <td>598</td>\n",
       "    </tr>\n",
       "    <tr>\n",
       "      <th>28</th>\n",
       "      <td>670</td>\n",
       "    </tr>\n",
       "    <tr>\n",
       "      <th>29</th>\n",
       "      <td>666</td>\n",
       "    </tr>\n",
       "    <tr>\n",
       "      <th>30</th>\n",
       "      <td>715</td>\n",
       "    </tr>\n",
       "    <tr>\n",
       "      <th>31</th>\n",
       "      <td>708</td>\n",
       "    </tr>\n",
       "    <tr>\n",
       "      <th>32</th>\n",
       "      <td>771</td>\n",
       "    </tr>\n",
       "    <tr>\n",
       "      <th>33</th>\n",
       "      <td>759</td>\n",
       "    </tr>\n",
       "    <tr>\n",
       "      <th>34</th>\n",
       "      <td>815</td>\n",
       "    </tr>\n",
       "    <tr>\n",
       "      <th>35</th>\n",
       "      <td>795</td>\n",
       "    </tr>\n",
       "    <tr>\n",
       "      <th>36</th>\n",
       "      <td>844</td>\n",
       "    </tr>\n",
       "    <tr>\n",
       "      <th>37</th>\n",
       "      <td>818</td>\n",
       "    </tr>\n",
       "    <tr>\n",
       "      <th>38</th>\n",
       "      <td>919</td>\n",
       "    </tr>\n",
       "    <tr>\n",
       "      <th>39</th>\n",
       "      <td>868</td>\n",
       "    </tr>\n",
       "    <tr>\n",
       "      <th>40</th>\n",
       "      <td>971</td>\n",
       "    </tr>\n",
       "    <tr>\n",
       "      <th>41</th>\n",
       "      <td>895</td>\n",
       "    </tr>\n",
       "    <tr>\n",
       "      <th>42</th>\n",
       "      <td>974</td>\n",
       "    </tr>\n",
       "    <tr>\n",
       "      <th>43</th>\n",
       "      <td>896</td>\n",
       "    </tr>\n",
       "    <tr>\n",
       "      <th>44</th>\n",
       "      <td>975</td>\n",
       "    </tr>\n",
       "    <tr>\n",
       "      <th>45</th>\n",
       "      <td>897</td>\n",
       "    </tr>\n",
       "    <tr>\n",
       "      <th>46</th>\n",
       "      <td>1023</td>\n",
       "    </tr>\n",
       "    <tr>\n",
       "      <th>47</th>\n",
       "      <td>935</td>\n",
       "    </tr>\n",
       "    <tr>\n",
       "      <th>48</th>\n",
       "      <td>1023</td>\n",
       "    </tr>\n",
       "    <tr>\n",
       "      <th>49</th>\n",
       "      <td>937</td>\n",
       "    </tr>\n",
       "    <tr>\n",
       "      <th>50</th>\n",
       "      <td>1023</td>\n",
       "    </tr>\n",
       "    <tr>\n",
       "      <th>51</th>\n",
       "      <td>937</td>\n",
       "    </tr>\n",
       "    <tr>\n",
       "      <th>52</th>\n",
       "      <td>1008</td>\n",
       "    </tr>\n",
       "    <tr>\n",
       "      <th>53</th>\n",
       "      <td>911</td>\n",
       "    </tr>\n",
       "    <tr>\n",
       "      <th>54</th>\n",
       "      <td>989</td>\n",
       "    </tr>\n",
       "    <tr>\n",
       "      <th>55</th>\n",
       "      <td>903</td>\n",
       "    </tr>\n",
       "    <tr>\n",
       "      <th>56</th>\n",
       "      <td>997</td>\n",
       "    </tr>\n",
       "    <tr>\n",
       "      <th>57</th>\n",
       "      <td>906</td>\n",
       "    </tr>\n",
       "    <tr>\n",
       "      <th>58</th>\n",
       "      <td>991</td>\n",
       "    </tr>\n",
       "    <tr>\n",
       "      <th>59</th>\n",
       "      <td>904</td>\n",
       "    </tr>\n",
       "  </tbody>\n",
       "</table>\n",
       "</div>"
      ],
      "text/plain": [
       "       2\n",
       "0      2\n",
       "1      2\n",
       "2      2\n",
       "3      2\n",
       "4     61\n",
       "5     61\n",
       "6     83\n",
       "7     86\n",
       "8     78\n",
       "9     78\n",
       "10    90\n",
       "11    90\n",
       "12    69\n",
       "13    69\n",
       "14   133\n",
       "15   133\n",
       "16   237\n",
       "17   237\n",
       "18   353\n",
       "19   353\n",
       "20   525\n",
       "21   525\n",
       "22   668\n",
       "23   664\n",
       "24   667\n",
       "25   663\n",
       "26   599\n",
       "27   598\n",
       "28   670\n",
       "29   666\n",
       "30   715\n",
       "31   708\n",
       "32   771\n",
       "33   759\n",
       "34   815\n",
       "35   795\n",
       "36   844\n",
       "37   818\n",
       "38   919\n",
       "39   868\n",
       "40   971\n",
       "41   895\n",
       "42   974\n",
       "43   896\n",
       "44   975\n",
       "45   897\n",
       "46  1023\n",
       "47   935\n",
       "48  1023\n",
       "49   937\n",
       "50  1023\n",
       "51   937\n",
       "52  1008\n",
       "53   911\n",
       "54   989\n",
       "55   903\n",
       "56   997\n",
       "57   906\n",
       "58   991\n",
       "59   904"
      ]
     },
     "execution_count": 31,
     "metadata": {},
     "output_type": "execute_result"
    }
   ],
   "source": [
    "import pandas as pd\n",
    "df = pd.read_csv(\"ZenerDiodeCappingData.txt\")\n",
    "df"
   ]
  },
  {
   "cell_type": "code",
   "execution_count": 9,
   "id": "23fed260",
   "metadata": {
    "ExecuteTime": {
     "end_time": "2022-06-05T13:32:20.597471Z",
     "start_time": "2022-06-05T13:32:20.580823Z"
    }
   },
   "outputs": [
    {
     "data": {
      "text/plain": [
       "2    2\n",
       "Name: 1, dtype: int64"
      ]
     },
     "execution_count": 9,
     "metadata": {},
     "output_type": "execute_result"
    }
   ],
   "source": [
    "df.iloc[0]"
   ]
  },
  {
   "cell_type": "code",
   "execution_count": 32,
   "id": "a871a5df",
   "metadata": {
    "ExecuteTime": {
     "end_time": "2022-06-05T13:36:18.714109Z",
     "start_time": "2022-06-05T13:36:18.701105Z"
    }
   },
   "outputs": [],
   "source": [
    "x = np.array([df.iloc[i][0] for i in range(0,60,2)])\n",
    "y = np.array([df.iloc[i][0] for i in range(1,61,2)])"
   ]
  },
  {
   "cell_type": "code",
   "execution_count": 33,
   "id": "dedf1847",
   "metadata": {
    "ExecuteTime": {
     "end_time": "2022-06-05T13:36:19.492471Z",
     "start_time": "2022-06-05T13:36:19.482467Z"
    }
   },
   "outputs": [],
   "source": [
    "x = x/1024.0 * 5.0\n",
    "y = y/1024.0 * 5.0"
   ]
  },
  {
   "cell_type": "code",
   "execution_count": 34,
   "id": "26565da4",
   "metadata": {
    "ExecuteTime": {
     "end_time": "2022-06-05T13:36:20.778635Z",
     "start_time": "2022-06-05T13:36:20.768648Z"
    }
   },
   "outputs": [],
   "source": [
    "import matplotlib.pyplot as plt"
   ]
  },
  {
   "cell_type": "code",
   "execution_count": 36,
   "id": "6eac3ba7",
   "metadata": {
    "ExecuteTime": {
     "end_time": "2022-06-05T13:36:28.845664Z",
     "start_time": "2022-06-05T13:36:28.836680Z"
    }
   },
   "outputs": [
    {
     "data": {
      "text/plain": [
       "array([0.00976562, 0.00976562, 0.29785156, 0.40527344, 0.38085938,\n",
       "       0.43945312, 0.33691406, 0.64941406, 1.15722656, 1.72363281,\n",
       "       2.56347656, 3.26171875, 3.25683594, 2.92480469, 3.27148438,\n",
       "       3.49121094, 3.76464844, 3.97949219, 4.12109375, 4.48730469,\n",
       "       4.74121094, 4.75585938, 4.76074219, 4.99511719, 4.99511719,\n",
       "       4.99511719, 4.921875  , 4.82910156, 4.86816406, 4.83886719])"
      ]
     },
     "execution_count": 36,
     "metadata": {},
     "output_type": "execute_result"
    }
   ],
   "source": [
    "x"
   ]
  },
  {
   "cell_type": "code",
   "execution_count": 37,
   "id": "1324aec0",
   "metadata": {
    "ExecuteTime": {
     "end_time": "2022-06-05T13:36:32.207855Z",
     "start_time": "2022-06-05T13:36:32.190132Z"
    }
   },
   "outputs": [
    {
     "data": {
      "text/plain": [
       "array([0.00976562, 0.00976562, 0.29785156, 0.41992188, 0.38085938,\n",
       "       0.43945312, 0.33691406, 0.64941406, 1.15722656, 1.72363281,\n",
       "       2.56347656, 3.2421875 , 3.23730469, 2.91992188, 3.25195312,\n",
       "       3.45703125, 3.70605469, 3.88183594, 3.99414062, 4.23828125,\n",
       "       4.37011719, 4.375     , 4.37988281, 4.56542969, 4.57519531,\n",
       "       4.57519531, 4.44824219, 4.40917969, 4.42382812, 4.4140625 ])"
      ]
     },
     "execution_count": 37,
     "metadata": {},
     "output_type": "execute_result"
    }
   ],
   "source": [
    "y"
   ]
  },
  {
   "cell_type": "code",
   "execution_count": 41,
   "id": "691ca344",
   "metadata": {
    "ExecuteTime": {
     "end_time": "2022-06-05T13:38:33.310496Z",
     "start_time": "2022-06-05T13:38:33.219389Z"
    }
   },
   "outputs": [
    {
     "ename": "AttributeError",
     "evalue": "module 'matplotlib.pyplot' has no attribute 'set_ylabel'",
     "output_type": "error",
     "traceback": [
      "\u001b[1;31m---------------------------------------------------------------------------\u001b[0m",
      "\u001b[1;31mAttributeError\u001b[0m                            Traceback (most recent call last)",
      "\u001b[1;32m~\\AppData\\Local\\Temp/ipykernel_16168/3283110796.py\u001b[0m in \u001b[0;36m<module>\u001b[1;34m\u001b[0m\n\u001b[0;32m      1\u001b[0m \u001b[0mplt\u001b[0m\u001b[1;33m.\u001b[0m\u001b[0mscatter\u001b[0m\u001b[1;33m(\u001b[0m\u001b[0mx\u001b[0m\u001b[1;33m,\u001b[0m\u001b[0my\u001b[0m\u001b[1;33m,\u001b[0m\u001b[0mmarker\u001b[0m\u001b[1;33m=\u001b[0m\u001b[1;34m'.'\u001b[0m\u001b[1;33m)\u001b[0m\u001b[1;33m\u001b[0m\u001b[1;33m\u001b[0m\u001b[0m\n\u001b[1;32m----> 2\u001b[1;33m \u001b[0mplt\u001b[0m\u001b[1;33m.\u001b[0m\u001b[0mset_ylabel\u001b[0m\u001b[1;33m(\u001b[0m\u001b[1;34m\"2\"\u001b[0m\u001b[1;33m)\u001b[0m\u001b[1;33m\u001b[0m\u001b[1;33m\u001b[0m\u001b[0m\n\u001b[0m",
      "\u001b[1;31mAttributeError\u001b[0m: module 'matplotlib.pyplot' has no attribute 'set_ylabel'"
     ]
    },
    {
     "data": {
      "image/png": "[encoded data removed]",
      "text/plain": [
       "<Figure size 432x288 with 1 Axes>"
      ]
     },
     "metadata": {
      "needs_background": "light"
     },
     "output_type": "display_data"
    }
   ],
   "source": [
    "plt.scatter(x,y,marker='.')\n",
    "plt.set_ylabel(\"2\")"
   ]
  },
  {
   "cell_type": "code",
   "execution_count": 78,
   "id": "4b207fdb",
   "metadata": {
    "ExecuteTime": {
     "end_time": "2022-06-05T13:45:56.823378Z",
     "start_time": "2022-06-05T13:45:56.735558Z"
    }
   },
   "outputs": [
    {
     "data": {
      "image/png": "[encoded data removed]",
      "text/plain": [
       "<Figure size 432x288 with 1 Axes>"
      ]
     },
     "metadata": {
      "needs_background": "light"
     },
     "output_type": "display_data"
    }
   ],
   "source": [
    "fig = plt.figure()\n",
    "fig.subplots_adjust(top=0.8)\n",
    "ax1 = fig.add_subplot(111)\n",
    "ax1.set_ylabel('V-diode')\n",
    "ax1.set_xlabel('V-raw')\n",
    "\n",
    "plt.ylim(0,5)\n",
    "plt.xlim(0,5)\n",
    "ax1.grid()\n",
    "\n",
    "scatter = ax1.scatter(x, y, marker=\".\",color=\"r\",s=25)\n",
    "line = ax1.plot(x,y,lw=1,color=\"g\")\n",
    "\n",
    "plt.show()"
   ]
  },
  {
   "cell_type": "code",
   "execution_count": 67,
   "id": "3bfeecdd",
   "metadata": {
    "ExecuteTime": {
     "end_time": "2022-06-05T13:43:32.991224Z",
     "start_time": "2022-06-05T13:43:32.979238Z"
    }
   },
   "outputs": [
    {
     "data": {
      "text/plain": [
       "array([0.00976562, 0.00976562, 0.29785156, 0.40527344, 0.38085938,\n",
       "       0.43945312, 0.33691406, 0.64941406, 1.15722656, 1.72363281,\n",
       "       2.56347656, 3.26171875, 3.25683594, 2.92480469, 3.27148438,\n",
       "       3.49121094, 3.76464844, 3.97949219, 4.12109375, 4.48730469,\n",
       "       4.74121094, 4.75585938, 4.76074219, 4.99511719, 4.99511719,\n",
       "       4.99511719, 4.921875  , 4.82910156, 4.86816406, 4.83886719])"
      ]
     },
     "execution_count": 67,
     "metadata": {},
     "output_type": "execute_result"
    }
   ],
   "source": [
    "x"
   ]
  },
  {
   "cell_type": "code",
   "execution_count": 68,
   "id": "41d97fdb",
   "metadata": {
    "ExecuteTime": {
     "end_time": "2022-06-05T13:43:34.489899Z",
     "start_time": "2022-06-05T13:43:34.469900Z"
    }
   },
   "outputs": [
    {
     "data": {
      "text/plain": [
       "array([0.00976562, 0.00976562, 0.29785156, 0.41992188, 0.38085938,\n",
       "       0.43945312, 0.33691406, 0.64941406, 1.15722656, 1.72363281,\n",
       "       2.56347656, 3.2421875 , 3.23730469, 2.91992188, 3.25195312,\n",
       "       3.45703125, 3.70605469, 3.88183594, 3.99414062, 4.23828125,\n",
       "       4.37011719, 4.375     , 4.37988281, 4.56542969, 4.57519531,\n",
       "       4.57519531, 4.44824219, 4.40917969, 4.42382812, 4.4140625 ])"
      ]
     },
     "execution_count": 68,
     "metadata": {},
     "output_type": "execute_result"
    }
   ],
   "source": [
    "y"
   ]
  },
  {
   "cell_type": "code",
   "execution_count": 74,
   "id": "20e0a87c",
   "metadata": {
    "ExecuteTime": {
     "end_time": "2022-06-05T13:45:07.311205Z",
     "start_time": "2022-06-05T13:45:07.294209Z"
    }
   },
   "outputs": [
    {
     "data": {
      "text/plain": [
       "array([4.74121094, 4.75585938, 4.76074219, 4.99511719, 4.99511719,\n",
       "       4.99511719, 4.921875  , 4.82910156, 4.86816406, 4.83886719])"
      ]
     },
     "execution_count": 74,
     "metadata": {},
     "output_type": "execute_result"
    }
   ],
   "source": [
    "x_limited = x[20:30]\n",
    "x_limited"
   ]
  },
  {
   "cell_type": "code",
   "execution_count": 75,
   "id": "451b2f70",
   "metadata": {
    "ExecuteTime": {
     "end_time": "2022-06-05T13:45:07.516159Z",
     "start_time": "2022-06-05T13:45:07.509161Z"
    }
   },
   "outputs": [
    {
     "data": {
      "text/plain": [
       "array([4.37011719, 4.375     , 4.37988281, 4.56542969, 4.57519531,\n",
       "       4.57519531, 4.44824219, 4.40917969, 4.42382812, 4.4140625 ])"
      ]
     },
     "execution_count": 75,
     "metadata": {},
     "output_type": "execute_result"
    }
   ],
   "source": [
    "y_limited = y[20:30]\n",
    "y_limited"
   ]
  },
  {
   "cell_type": "code",
   "execution_count": 77,
   "id": "f294ee49",
   "metadata": {
    "ExecuteTime": {
     "end_time": "2022-06-05T13:45:11.875763Z",
     "start_time": "2022-06-05T13:45:11.779789Z"
    }
   },
   "outputs": [
    {
     "data": {
      "text/plain": [
       "<matplotlib.collections.PathCollection at 0x27860f82e80>"
      ]
     },
     "execution_count": 77,
     "metadata": {},
     "output_type": "execute_result"
    },
    {
     "data": {
      "image/png": "[encoded data removed]",
      "text/plain": [
       "<Figure size 432x288 with 1 Axes>"
      ]
     },
     "metadata": {
      "needs_background": "light"
     },
     "output_type": "display_data"
    }
   ],
   "source": [
    "plt.scatter(x_limited,y_limited)"
   ]
  },
  {
   "cell_type": "code",
   "execution_count": 79,
   "id": "1f4e24d0",
   "metadata": {
    "ExecuteTime": {
     "end_time": "2022-06-05T13:46:25.655539Z",
     "start_time": "2022-06-05T13:46:25.643542Z"
    }
   },
   "outputs": [],
   "source": [
    "a = x-y"
   ]
  },
  {
   "cell_type": "code",
   "execution_count": 80,
   "id": "836822c5",
   "metadata": {
    "ExecuteTime": {
     "end_time": "2022-06-05T13:46:27.450028Z",
     "start_time": "2022-06-05T13:46:27.430044Z"
    }
   },
   "outputs": [
    {
     "data": {
      "text/plain": [
       "array([ 0.        ,  0.        ,  0.        , -0.01464844,  0.        ,\n",
       "        0.        ,  0.        ,  0.        ,  0.        ,  0.        ,\n",
       "        0.        ,  0.01953125,  0.01953125,  0.00488281,  0.01953125,\n",
       "        0.03417969,  0.05859375,  0.09765625,  0.12695312,  0.24902344,\n",
       "        0.37109375,  0.38085938,  0.38085938,  0.4296875 ,  0.41992188,\n",
       "        0.41992188,  0.47363281,  0.41992188,  0.44433594,  0.42480469])"
      ]
     },
     "execution_count": 80,
     "metadata": {},
     "output_type": "execute_result"
    }
   ],
   "source": [
    "a"
   ]
  },
  {
   "cell_type": "code",
   "execution_count": 101,
   "id": "d7accd5f",
   "metadata": {
    "ExecuteTime": {
     "end_time": "2022-06-05T13:50:30.601352Z",
     "start_time": "2022-06-05T13:50:30.512796Z"
    }
   },
   "outputs": [
    {
     "data": {
      "image/png": "[encoded data removed]",
      "text/plain": [
       "<Figure size 432x288 with 1 Axes>"
      ]
     },
     "metadata": {
      "needs_background": "light"
     },
     "output_type": "display_data"
    }
   ],
   "source": [
    "fig = plt.figure()\n",
    "fig.subplots_adjust(top=0.8)\n",
    "ax1 = fig.add_subplot(111)\n",
    "ax1.set_ylabel('V_raw - V_diode')\n",
    "ax1.set_xlabel('V_raw')\n",
    "\n",
    "plt.ylim(0,0.5)\n",
    "plt.xlim(0,5)\n",
    "ax1.grid()\n",
    "\n",
    "scatter = ax1.scatter(x, a, marker=\".\",color=\"r\",s=25)\n",
    "line = ax1.plot(x[0:-5],a[0:-5],lw=1,color=\"g\")\n",
    "\n",
    "plt.show()"
   ]
  },
  {
   "cell_type": "markdown",
   "id": "429ba21d",
   "metadata": {},
   "source": [
    "IPG CPG"
   ]
  },
  {
   "cell_type": "code",
   "execution_count": 158,
   "id": "d5e24590",
   "metadata": {
    "ExecuteTime": {
     "end_time": "2022-06-05T14:46:16.696688Z",
     "start_time": "2022-06-05T14:46:16.602274Z"
    }
   },
   "outputs": [
    {
     "data": {
      "image/png": "[encoded data removed]",
      "text/plain": [
       "<Figure size 432x288 with 1 Axes>"
      ]
     },
     "metadata": {
      "needs_background": "light"
     },
     "output_type": "display_data"
    }
   ],
   "source": [
    "fig = plt.figure()\n",
    "\n",
    "fig.subplots_adjust(top=0.8)\n",
    "ax1 = fig.add_subplot(111)\n",
    "ax1.set_ylabel('V')\n",
    "ax1.set_xlabel('Time(ms)')\n",
    "\n",
    "#plt.ylim(0,0.5)\n",
    "#plt.xlim(0,500)\n",
    "ax1.grid()\n",
    "\n",
    "\n",
    "\n",
    "\n",
    "\n",
    "percent=50\n",
    "TimePeriod=20/12\n",
    "Cycles=24\n",
    "dt=20/12/12\n",
    "\n",
    "\n",
    "t=np.arange(0,Cycles*TimePeriod,dt); \n",
    "pwm= t%TimePeriod<TimePeriod*percent/100 \n",
    "\n",
    "pwm[0] = False\n",
    "##plt.plot(t,pwm)\n",
    "\n",
    "#line = ax1.plot(t,pwm,lw=1,color=\"g\")\n",
    "line = ax1.plot(t,pwm_cpg,color=\"b\")\n",
    "\n",
    "plt.show()\n",
    "\n"
   ]
  },
  {
   "cell_type": "code",
   "execution_count": 146,
   "id": "7337766a",
   "metadata": {
    "ExecuteTime": {
     "end_time": "2022-06-05T14:40:08.368071Z",
     "start_time": "2022-06-05T14:40:08.354073Z"
    }
   },
   "outputs": [],
   "source": [
    "pwm_cpg = pwm\n",
    "pwm_cpg[0:7] = True\n",
    "pwm_cpg[0] = False\n",
    "pwm_cpg[7:144] = False\n",
    "pwm_cpg[144:151] = True\n",
    "pwm_cpg[151:158] = False\n",
    "pwm_cpg[158:165] = True\n",
    "pwm_cpg[165:] = False"
   ]
  },
  {
   "cell_type": "code",
   "execution_count": null,
   "id": "5f35874b",
   "metadata": {},
   "outputs": [],
   "source": []
  }
 ],
 "metadata": {
  "kernelspec": {
   "display_name": "Python 3 (ipykernel)",
   "language": "python",
   "name": "python3"
  },
  "language_info": {
   "codemirror_mode": {
    "name": "ipython",
    "version": 3
   },
   "file_extension": ".py",
   "mimetype": "text/x-python",
   "name": "python",
   "nbconvert_exporter": "python",
   "pygments_lexer": "ipython3",
   "version": "3.8.12"
  }
 },
 "nbformat": 4,
 "nbformat_minor": 5
}
